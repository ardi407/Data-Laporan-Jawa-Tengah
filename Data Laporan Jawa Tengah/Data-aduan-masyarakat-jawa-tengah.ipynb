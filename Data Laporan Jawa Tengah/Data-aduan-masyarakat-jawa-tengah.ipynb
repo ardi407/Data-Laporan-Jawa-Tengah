{
 "cells": [
  {
   "cell_type": "markdown",
   "id": "f8df644b",
   "metadata": {},
   "source": [
    "# DATA Analysis from Web Srapping\n"
   ]
  },
  {
   "cell_type": "markdown",
   "id": "e09819f9",
   "metadata": {},
   "source": [
    "Tujuan proyek ini adalah: \n",
    "1. Mengetahui seberapa banyak aduan masyarakat kepada pemerintah jawa tengah pada portal laporgub.jatengprov.go.id selama beberapa bulan terakhir.\n",
    "2. Mengetahui berapa banyak aduan per kota/kabupaten di jawa tengah dalam periode waktu tertentu.\n",
    "3. Mengetahui persentasi aduan diselesaikan, diverivikasi, masih berjalan, atau bahkan tidak direspon dalam waktu tertentu.\n",
    "4. Portfolio dan bahan latihan penganalisa.\n",
    "5. Meminta saran atau arahan kepada para data analis senior guna meningkatkan keahlian penganalisa.\n",
    "\n",
    "\n",
    "Demikian tujuan dilakukannya analisa data ini. Perlu dicatat bahwa ini dilakukan BUKAN dalam rangka:\n",
    "1. Menjatuhkan pihak pemerintah kota-kota tertentu\n",
    "2. Tidak untuk memberikan contoh untuk ditiru atau dipelajari pihak manapun\n",
    "\n",
    "Terlebih, tidak ditemukan larangan webscrapping pada portal https://laporgub.jatengprov.go.id/robots.txt\n",
    "\n",
    "\n",
    "Secara garis besar, roses yang dilakukan pada proyek ini adalah:\n",
    "1. Meminta akses ke dalam website melalui module requests\n",
    "2. Mengolah data html dengan BeautifulSoup. Jumlah halaman yang periksa adalah sebanyak 2000 halaman dari https://laporgub.jatengprov.go.id dengan total 20000 records atau aduan. (10 aduan per halaman)\n",
    "3. Membuat 2 buah method Men-generate link per halaman sekaligus menerima hasil dalam bentuk dataframe (pandas)\n",
    "4. Pengolahan data: Data cleaning, re-formatting, pembuatan insight dan grafik.\n"
   ]
  },
  {
   "cell_type": "markdown",
   "id": "5fdd2ad9",
   "metadata": {},
   "source": [
    "## 1 import semua modul yang dibutuhkan"
   ]
  },
  {
   "cell_type": "code",
   "execution_count": 1,
   "id": "46fd6e46",
   "metadata": {},
   "outputs": [],
   "source": [
    "from bs4 import BeautifulSoup\n",
    "import pandas as pd\n",
    "import requests\n"
   ]
  },
  {
   "cell_type": "markdown",
   "id": "00c2b035",
   "metadata": {},
   "source": [
    "## 2 Membuat fungsi yang berguna untuk meminta data\n",
    "mohon dibantu arahannya apabila ada yang harus diberbaiki dan dibuat lebih efisien"
   ]
  },
  {
   "cell_type": "code",
   "execution_count": 9,
   "id": "1ed5d7a1",
   "metadata": {},
   "outputs": [],
   "source": [
    "def details(url):\n",
    "    response = requests.get(url)\n",
    "    html = response.text\n",
    "    soup = BeautifulSoup(html, 'html.parser')\n",
    "    ids = soup.find_all('p', class_= 'text-red-600 text-sm font-semibold')\n",
    "    kabupaten = soup.find_all('p', class_= 'text-slate-500 text-sm font-light')\n",
    "    progress = soup.find_all('span', class_= 'rounded-full border text-red-600 px-2 py-1 sm:px-2 sm:py-1 text-sm') \n",
    "    \n",
    "    #empty list\n",
    "    all_data= []\n",
    "    for i in range(len(ids)):\n",
    "            dict={'ID':ids[i].text.strip(),'Kabupaten/Kota':kabupaten[i+1].text.strip(),'Status':progress[i].text.strip()}\n",
    "            all_data.append(dict)\n",
    "    df = pd.DataFrame(all_data)\n",
    "    return(all_data)\n",
    "\n",
    "\n",
    "def generate_all_page(start,end):\n",
    "    link = \"https://laporgub.jatengprov.go.id/jelajah?page=\"\n",
    "    all_details = []\n",
    "    for i in range(start, end):\n",
    "        links = link+str(i)\n",
    "        per_page = details(links)\n",
    "        all_details.append(per_page)\n",
    "    \n",
    "    generated_data=[]\n",
    "    for item in all_details:\n",
    "        for detail in item:\n",
    "            generated_data.append(detail)\n",
    "    df = pd.DataFrame(generated_data)\n",
    "    return df"
   ]
  },
  {
   "cell_type": "markdown",
   "id": "f9cbf9a9",
   "metadata": {},
   "source": [
    "## 3 Memanggil Fungsi di atas untuk membuat data"
   ]
  },
  {
   "cell_type": "code",
   "execution_count": 13,
   "id": "043dca4f",
   "metadata": {},
   "outputs": [],
   "source": [
    "df_10=generate_all_page(1,1000) "
   ]
  },
  {
   "cell_type": "code",
   "execution_count": 34,
   "id": "144de628",
   "metadata": {},
   "outputs": [],
   "source": [
    "df_1000= df_10 # hanya sebuah re-asignment"
   ]
  },
  {
   "cell_type": "code",
   "execution_count": 19,
   "id": "8da10a72",
   "metadata": {},
   "outputs": [
    {
     "data": {
      "text/html": [
       "<div>\n",
       "<style scoped>\n",
       "    .dataframe tbody tr th:only-of-type {\n",
       "        vertical-align: middle;\n",
       "    }\n",
       "\n",
       "    .dataframe tbody tr th {\n",
       "        vertical-align: top;\n",
       "    }\n",
       "\n",
       "    .dataframe thead th {\n",
       "        text-align: right;\n",
       "    }\n",
       "</style>\n",
       "<table border=\"1\" class=\"dataframe\">\n",
       "  <thead>\n",
       "    <tr style=\"text-align: right;\">\n",
       "      <th></th>\n",
       "      <th>ID</th>\n",
       "      <th>Kabupaten/Kota</th>\n",
       "      <th>Status</th>\n",
       "    </tr>\n",
       "  </thead>\n",
       "  <tbody>\n",
       "    <tr>\n",
       "      <th>0</th>\n",
       "      <td>LGWA83326637</td>\n",
       "      <td>KABUPATEN BLORA, 16 Sep 2023</td>\n",
       "      <td>Progress</td>\n",
       "    </tr>\n",
       "    <tr>\n",
       "      <th>1</th>\n",
       "      <td>LGWP72471526</td>\n",
       "      <td>KABUPATEN GROBOGAN, 16 Sep 2023</td>\n",
       "      <td>Belum Direspon</td>\n",
       "    </tr>\n",
       "    <tr>\n",
       "      <th>2</th>\n",
       "      <td>LGIG33558123</td>\n",
       "      <td>KABUPATEN KLATEN, 16 Sep 2023</td>\n",
       "      <td>Belum Direspon</td>\n",
       "    </tr>\n",
       "    <tr>\n",
       "      <th>3</th>\n",
       "      <td>LGIG32911071</td>\n",
       "      <td>KABUPATEN TEGAL, 16 Sep 2023</td>\n",
       "      <td>Verifikasi</td>\n",
       "    </tr>\n",
       "    <tr>\n",
       "      <th>4</th>\n",
       "      <td>LGMB31256726</td>\n",
       "      <td>KABUPATEN TEGAL, 16 Sep 2023</td>\n",
       "      <td>Belum Direspon</td>\n",
       "    </tr>\n",
       "    <tr>\n",
       "      <th>...</th>\n",
       "      <td>...</td>\n",
       "      <td>...</td>\n",
       "      <td>...</td>\n",
       "    </tr>\n",
       "    <tr>\n",
       "      <th>9985</th>\n",
       "      <td>LGTW40100721</td>\n",
       "      <td>KABUPATEN SUKOHARJO, 01 Mar 2023</td>\n",
       "      <td>Selesai</td>\n",
       "    </tr>\n",
       "    <tr>\n",
       "      <th>9986</th>\n",
       "      <td>LGTW88488212</td>\n",
       "      <td>KABUPATEN SEMARANG, 01 Mar 2023</td>\n",
       "      <td>Selesai</td>\n",
       "    </tr>\n",
       "    <tr>\n",
       "      <th>9987</th>\n",
       "      <td>LGWP62112697</td>\n",
       "      <td>KABUPATEN PATI, 01 Mar 2023</td>\n",
       "      <td>Selesai</td>\n",
       "    </tr>\n",
       "    <tr>\n",
       "      <th>9988</th>\n",
       "      <td>LGTW66640081</td>\n",
       "      <td>KABUPATEN BOYOLALI, 01 Mar 2023</td>\n",
       "      <td>Selesai</td>\n",
       "    </tr>\n",
       "    <tr>\n",
       "      <th>9989</th>\n",
       "      <td>LGTW80081009</td>\n",
       "      <td>KABUPATEN KUDUS, 01 Mar 2023</td>\n",
       "      <td>Selesai</td>\n",
       "    </tr>\n",
       "  </tbody>\n",
       "</table>\n",
       "<p>9990 rows × 3 columns</p>\n",
       "</div>"
      ],
      "text/plain": [
       "                ID                    Kabupaten/Kota          Status\n",
       "0     LGWA83326637      KABUPATEN BLORA, 16 Sep 2023        Progress\n",
       "1     LGWP72471526   KABUPATEN GROBOGAN, 16 Sep 2023  Belum Direspon\n",
       "2     LGIG33558123     KABUPATEN KLATEN, 16 Sep 2023  Belum Direspon\n",
       "3     LGIG32911071      KABUPATEN TEGAL, 16 Sep 2023      Verifikasi\n",
       "4     LGMB31256726      KABUPATEN TEGAL, 16 Sep 2023  Belum Direspon\n",
       "...            ...                               ...             ...\n",
       "9985  LGTW40100721  KABUPATEN SUKOHARJO, 01 Mar 2023         Selesai\n",
       "9986  LGTW88488212   KABUPATEN SEMARANG, 01 Mar 2023         Selesai\n",
       "9987  LGWP62112697       KABUPATEN PATI, 01 Mar 2023         Selesai\n",
       "9988  LGTW66640081   KABUPATEN BOYOLALI, 01 Mar 2023         Selesai\n",
       "9989  LGTW80081009      KABUPATEN KUDUS, 01 Mar 2023         Selesai\n",
       "\n",
       "[9990 rows x 3 columns]"
      ]
     },
     "execution_count": 19,
     "metadata": {},
     "output_type": "execute_result"
    }
   ],
   "source": [
    "df_1000 #preview isi data dari halaman 1 sampai 999"
   ]
  },
  {
   "cell_type": "code",
   "execution_count": 20,
   "id": "d6f8eb6d",
   "metadata": {},
   "outputs": [],
   "source": [
    "df_2000 = generate_all_page(1001,2000)  #meminta data untuk halaman 1001 hingga halaman 1999"
   ]
  },
  {
   "cell_type": "code",
   "execution_count": 35,
   "id": "68291021",
   "metadata": {},
   "outputs": [
    {
     "data": {
      "text/html": [
       "<div>\n",
       "<style scoped>\n",
       "    .dataframe tbody tr th:only-of-type {\n",
       "        vertical-align: middle;\n",
       "    }\n",
       "\n",
       "    .dataframe tbody tr th {\n",
       "        vertical-align: top;\n",
       "    }\n",
       "\n",
       "    .dataframe thead th {\n",
       "        text-align: right;\n",
       "    }\n",
       "</style>\n",
       "<table border=\"1\" class=\"dataframe\">\n",
       "  <thead>\n",
       "    <tr style=\"text-align: right;\">\n",
       "      <th></th>\n",
       "      <th>ID</th>\n",
       "      <th>Kabupaten/Kota</th>\n",
       "      <th>Status</th>\n",
       "    </tr>\n",
       "  </thead>\n",
       "  <tbody>\n",
       "    <tr>\n",
       "      <th>0</th>\n",
       "      <td>LGIG21018738</td>\n",
       "      <td>KABUPATEN WONOSOBO, 01 Mar 2023</td>\n",
       "      <td>Selesai</td>\n",
       "    </tr>\n",
       "    <tr>\n",
       "      <th>1</th>\n",
       "      <td>LGTW13596541</td>\n",
       "      <td>KABUPATEN KUDUS, 01 Mar 2023</td>\n",
       "      <td>Selesai</td>\n",
       "    </tr>\n",
       "    <tr>\n",
       "      <th>2</th>\n",
       "      <td>LGTW37261462</td>\n",
       "      <td>KABUPATEN MAGELANG, 01 Mar 2023</td>\n",
       "      <td>Selesai</td>\n",
       "    </tr>\n",
       "    <tr>\n",
       "      <th>3</th>\n",
       "      <td>LGTW34744828</td>\n",
       "      <td>KABUPATEN BREBES, 01 Mar 2023</td>\n",
       "      <td>Selesai</td>\n",
       "    </tr>\n",
       "    <tr>\n",
       "      <th>4</th>\n",
       "      <td>LGTW73295665</td>\n",
       "      <td>KABUPATEN PURWOREJO, 01 Mar 2023</td>\n",
       "      <td>Selesai</td>\n",
       "    </tr>\n",
       "    <tr>\n",
       "      <th>...</th>\n",
       "      <td>...</td>\n",
       "      <td>...</td>\n",
       "      <td>...</td>\n",
       "    </tr>\n",
       "    <tr>\n",
       "      <th>9985</th>\n",
       "      <td>LGIG80306946</td>\n",
       "      <td>KABUPATEN CILACAP, 06 Oct 2022</td>\n",
       "      <td>Selesai</td>\n",
       "    </tr>\n",
       "    <tr>\n",
       "      <th>9986</th>\n",
       "      <td>LGTW93917645</td>\n",
       "      <td>KOTA TEGAL, 06 Oct 2022</td>\n",
       "      <td>Selesai</td>\n",
       "    </tr>\n",
       "    <tr>\n",
       "      <th>9987</th>\n",
       "      <td>LGWP85315170</td>\n",
       "      <td>KABUPATEN BLORA, 06 Oct 2022</td>\n",
       "      <td>Selesai</td>\n",
       "    </tr>\n",
       "    <tr>\n",
       "      <th>9988</th>\n",
       "      <td>LGIG79600883</td>\n",
       "      <td>LAIN-LAIN, 06 Oct 2022</td>\n",
       "      <td>Progress</td>\n",
       "    </tr>\n",
       "    <tr>\n",
       "      <th>9989</th>\n",
       "      <td>LGIG14720848</td>\n",
       "      <td>KABUPATEN BANYUMAS, 06 Oct 2022</td>\n",
       "      <td>Selesai</td>\n",
       "    </tr>\n",
       "  </tbody>\n",
       "</table>\n",
       "<p>9990 rows × 3 columns</p>\n",
       "</div>"
      ],
      "text/plain": [
       "                ID                    Kabupaten/Kota    Status\n",
       "0     LGIG21018738   KABUPATEN WONOSOBO, 01 Mar 2023   Selesai\n",
       "1     LGTW13596541      KABUPATEN KUDUS, 01 Mar 2023   Selesai\n",
       "2     LGTW37261462   KABUPATEN MAGELANG, 01 Mar 2023   Selesai\n",
       "3     LGTW34744828     KABUPATEN BREBES, 01 Mar 2023   Selesai\n",
       "4     LGTW73295665  KABUPATEN PURWOREJO, 01 Mar 2023   Selesai\n",
       "...            ...                               ...       ...\n",
       "9985  LGIG80306946    KABUPATEN CILACAP, 06 Oct 2022   Selesai\n",
       "9986  LGTW93917645           KOTA TEGAL, 06 Oct 2022   Selesai\n",
       "9987  LGWP85315170      KABUPATEN BLORA, 06 Oct 2022   Selesai\n",
       "9988  LGIG79600883            LAIN-LAIN, 06 Oct 2022  Progress\n",
       "9989  LGIG14720848   KABUPATEN BANYUMAS, 06 Oct 2022   Selesai\n",
       "\n",
       "[9990 rows x 3 columns]"
      ]
     },
     "execution_count": 35,
     "metadata": {},
     "output_type": "execute_result"
    }
   ],
   "source": [
    "df_2000 # review data untuk halaman 1001 hingga halaman 1999"
   ]
  },
  {
   "cell_type": "code",
   "execution_count": 27,
   "id": "a162be84",
   "metadata": {},
   "outputs": [],
   "source": [
    "# lupa halaman 1000, dan 2000 hehe\n",
    "\n",
    "df_page1000 = generate_all_page(1000,1001)\n",
    "df_page2000 = generate_all_page(2000,2001)"
   ]
  },
  {
   "cell_type": "markdown",
   "id": "34f9e0bb",
   "metadata": {},
   "source": [
    "## 3 Penggabungan hasil data ke dalam dataFrame Baru"
   ]
  },
  {
   "cell_type": "code",
   "execution_count": 30,
   "id": "af7653d9",
   "metadata": {},
   "outputs": [
    {
     "data": {
      "text/html": [
       "<div>\n",
       "<style scoped>\n",
       "    .dataframe tbody tr th:only-of-type {\n",
       "        vertical-align: middle;\n",
       "    }\n",
       "\n",
       "    .dataframe tbody tr th {\n",
       "        vertical-align: top;\n",
       "    }\n",
       "\n",
       "    .dataframe thead th {\n",
       "        text-align: right;\n",
       "    }\n",
       "</style>\n",
       "<table border=\"1\" class=\"dataframe\">\n",
       "  <thead>\n",
       "    <tr style=\"text-align: right;\">\n",
       "      <th></th>\n",
       "      <th>ID</th>\n",
       "      <th>Kabupaten/Kota</th>\n",
       "      <th>Status</th>\n",
       "    </tr>\n",
       "  </thead>\n",
       "  <tbody>\n",
       "    <tr>\n",
       "      <th>0</th>\n",
       "      <td>LGWA83326637</td>\n",
       "      <td>KABUPATEN BLORA, 16 Sep 2023</td>\n",
       "      <td>Progress</td>\n",
       "    </tr>\n",
       "    <tr>\n",
       "      <th>1</th>\n",
       "      <td>LGWP72471526</td>\n",
       "      <td>KABUPATEN GROBOGAN, 16 Sep 2023</td>\n",
       "      <td>Belum Direspon</td>\n",
       "    </tr>\n",
       "    <tr>\n",
       "      <th>2</th>\n",
       "      <td>LGIG33558123</td>\n",
       "      <td>KABUPATEN KLATEN, 16 Sep 2023</td>\n",
       "      <td>Belum Direspon</td>\n",
       "    </tr>\n",
       "    <tr>\n",
       "      <th>3</th>\n",
       "      <td>LGIG32911071</td>\n",
       "      <td>KABUPATEN TEGAL, 16 Sep 2023</td>\n",
       "      <td>Verifikasi</td>\n",
       "    </tr>\n",
       "    <tr>\n",
       "      <th>4</th>\n",
       "      <td>LGMB31256726</td>\n",
       "      <td>KABUPATEN TEGAL, 16 Sep 2023</td>\n",
       "      <td>Belum Direspon</td>\n",
       "    </tr>\n",
       "    <tr>\n",
       "      <th>...</th>\n",
       "      <td>...</td>\n",
       "      <td>...</td>\n",
       "      <td>...</td>\n",
       "    </tr>\n",
       "    <tr>\n",
       "      <th>19995</th>\n",
       "      <td>LGAN67211235</td>\n",
       "      <td>KABUPATEN SEMARANG, 06 Oct 2022</td>\n",
       "      <td>Verifikasi</td>\n",
       "    </tr>\n",
       "    <tr>\n",
       "      <th>19996</th>\n",
       "      <td>LGWA72542280</td>\n",
       "      <td>KABUPATEN PURWOREJO, 06 Oct 2022</td>\n",
       "      <td>Selesai</td>\n",
       "    </tr>\n",
       "    <tr>\n",
       "      <th>19997</th>\n",
       "      <td>LGWP23216219</td>\n",
       "      <td>KABUPATEN JEPARA, 06 Oct 2022</td>\n",
       "      <td>Selesai</td>\n",
       "    </tr>\n",
       "    <tr>\n",
       "      <th>19998</th>\n",
       "      <td>LGWP99416856</td>\n",
       "      <td>KABUPATEN PEMALANG, 06 Oct 2022</td>\n",
       "      <td>Selesai</td>\n",
       "    </tr>\n",
       "    <tr>\n",
       "      <th>19999</th>\n",
       "      <td>LGWP45484443</td>\n",
       "      <td>KABUPATEN PATI, 06 Oct 2022</td>\n",
       "      <td>Verifikasi</td>\n",
       "    </tr>\n",
       "  </tbody>\n",
       "</table>\n",
       "<p>20000 rows × 3 columns</p>\n",
       "</div>"
      ],
      "text/plain": [
       "                 ID                    Kabupaten/Kota          Status\n",
       "0      LGWA83326637      KABUPATEN BLORA, 16 Sep 2023        Progress\n",
       "1      LGWP72471526   KABUPATEN GROBOGAN, 16 Sep 2023  Belum Direspon\n",
       "2      LGIG33558123     KABUPATEN KLATEN, 16 Sep 2023  Belum Direspon\n",
       "3      LGIG32911071      KABUPATEN TEGAL, 16 Sep 2023      Verifikasi\n",
       "4      LGMB31256726      KABUPATEN TEGAL, 16 Sep 2023  Belum Direspon\n",
       "...             ...                               ...             ...\n",
       "19995  LGAN67211235   KABUPATEN SEMARANG, 06 Oct 2022      Verifikasi\n",
       "19996  LGWA72542280  KABUPATEN PURWOREJO, 06 Oct 2022         Selesai\n",
       "19997  LGWP23216219     KABUPATEN JEPARA, 06 Oct 2022         Selesai\n",
       "19998  LGWP99416856   KABUPATEN PEMALANG, 06 Oct 2022         Selesai\n",
       "19999  LGWP45484443       KABUPATEN PATI, 06 Oct 2022      Verifikasi\n",
       "\n",
       "[20000 rows x 3 columns]"
      ]
     },
     "execution_count": 30,
     "metadata": {},
     "output_type": "execute_result"
    }
   ],
   "source": [
    "dataset = pd.concat([df_1000,df_page1000,df_2000,df_page2000], ignore_index=True)\n",
    "dataset "
   ]
  },
  {
   "cell_type": "markdown",
   "id": "38adcee5",
   "metadata": {},
   "source": [
    "Data di atas masih harus dibersihkan dan dimodifikasi sesuai dengan kebutuhan analisa. ID hanya berlaku sebagai bahan apabila perlu memeriksa halaman per aduan yang tidak dilakukan pada proyek ini. "
   ]
  },
  {
   "cell_type": "code",
   "execution_count": 31,
   "id": "59323796",
   "metadata": {},
   "outputs": [],
   "source": [
    "# menggunakan ini untuk menyimpan semua data kedalam file csv\n",
    "# dataset.to_csv(\"aduan-jateng.csv\", index=False)"
   ]
  },
  {
   "cell_type": "code",
   "execution_count": 44,
   "id": "61807640",
   "metadata": {},
   "outputs": [
    {
     "data": {
      "text/html": [
       "<div>\n",
       "<style scoped>\n",
       "    .dataframe tbody tr th:only-of-type {\n",
       "        vertical-align: middle;\n",
       "    }\n",
       "\n",
       "    .dataframe tbody tr th {\n",
       "        vertical-align: top;\n",
       "    }\n",
       "\n",
       "    .dataframe thead th {\n",
       "        text-align: right;\n",
       "    }\n",
       "</style>\n",
       "<table border=\"1\" class=\"dataframe\">\n",
       "  <thead>\n",
       "    <tr style=\"text-align: right;\">\n",
       "      <th></th>\n",
       "      <th>ID</th>\n",
       "      <th>Kabupaten/Kota</th>\n",
       "      <th>Status</th>\n",
       "      <th>Tanggal</th>\n",
       "    </tr>\n",
       "  </thead>\n",
       "  <tbody>\n",
       "    <tr>\n",
       "      <th>0</th>\n",
       "      <td>LGWA83326637</td>\n",
       "      <td>KABUPATEN BLORA</td>\n",
       "      <td>Progress</td>\n",
       "      <td>16 Sep 2023</td>\n",
       "    </tr>\n",
       "    <tr>\n",
       "      <th>1</th>\n",
       "      <td>LGWP72471526</td>\n",
       "      <td>KABUPATEN GROBOGAN</td>\n",
       "      <td>Belum Direspon</td>\n",
       "      <td>16 Sep 2023</td>\n",
       "    </tr>\n",
       "    <tr>\n",
       "      <th>2</th>\n",
       "      <td>LGIG33558123</td>\n",
       "      <td>KABUPATEN KLATEN</td>\n",
       "      <td>Belum Direspon</td>\n",
       "      <td>16 Sep 2023</td>\n",
       "    </tr>\n",
       "    <tr>\n",
       "      <th>3</th>\n",
       "      <td>LGIG32911071</td>\n",
       "      <td>KABUPATEN TEGAL</td>\n",
       "      <td>Verifikasi</td>\n",
       "      <td>16 Sep 2023</td>\n",
       "    </tr>\n",
       "    <tr>\n",
       "      <th>4</th>\n",
       "      <td>LGMB31256726</td>\n",
       "      <td>KABUPATEN TEGAL</td>\n",
       "      <td>Belum Direspon</td>\n",
       "      <td>16 Sep 2023</td>\n",
       "    </tr>\n",
       "    <tr>\n",
       "      <th>...</th>\n",
       "      <td>...</td>\n",
       "      <td>...</td>\n",
       "      <td>...</td>\n",
       "      <td>...</td>\n",
       "    </tr>\n",
       "    <tr>\n",
       "      <th>19995</th>\n",
       "      <td>LGAN67211235</td>\n",
       "      <td>KABUPATEN SEMARANG</td>\n",
       "      <td>Verifikasi</td>\n",
       "      <td>06 Oct 2022</td>\n",
       "    </tr>\n",
       "    <tr>\n",
       "      <th>19996</th>\n",
       "      <td>LGWA72542280</td>\n",
       "      <td>KABUPATEN PURWOREJO</td>\n",
       "      <td>Selesai</td>\n",
       "      <td>06 Oct 2022</td>\n",
       "    </tr>\n",
       "    <tr>\n",
       "      <th>19997</th>\n",
       "      <td>LGWP23216219</td>\n",
       "      <td>KABUPATEN JEPARA</td>\n",
       "      <td>Selesai</td>\n",
       "      <td>06 Oct 2022</td>\n",
       "    </tr>\n",
       "    <tr>\n",
       "      <th>19998</th>\n",
       "      <td>LGWP99416856</td>\n",
       "      <td>KABUPATEN PEMALANG</td>\n",
       "      <td>Selesai</td>\n",
       "      <td>06 Oct 2022</td>\n",
       "    </tr>\n",
       "    <tr>\n",
       "      <th>19999</th>\n",
       "      <td>LGWP45484443</td>\n",
       "      <td>KABUPATEN PATI</td>\n",
       "      <td>Verifikasi</td>\n",
       "      <td>06 Oct 2022</td>\n",
       "    </tr>\n",
       "  </tbody>\n",
       "</table>\n",
       "<p>20000 rows × 4 columns</p>\n",
       "</div>"
      ],
      "text/plain": [
       "                 ID       Kabupaten/Kota          Status       Tanggal\n",
       "0      LGWA83326637      KABUPATEN BLORA        Progress   16 Sep 2023\n",
       "1      LGWP72471526   KABUPATEN GROBOGAN  Belum Direspon   16 Sep 2023\n",
       "2      LGIG33558123     KABUPATEN KLATEN  Belum Direspon   16 Sep 2023\n",
       "3      LGIG32911071      KABUPATEN TEGAL      Verifikasi   16 Sep 2023\n",
       "4      LGMB31256726      KABUPATEN TEGAL  Belum Direspon   16 Sep 2023\n",
       "...             ...                  ...             ...           ...\n",
       "19995  LGAN67211235   KABUPATEN SEMARANG      Verifikasi   06 Oct 2022\n",
       "19996  LGWA72542280  KABUPATEN PURWOREJO         Selesai   06 Oct 2022\n",
       "19997  LGWP23216219     KABUPATEN JEPARA         Selesai   06 Oct 2022\n",
       "19998  LGWP99416856   KABUPATEN PEMALANG         Selesai   06 Oct 2022\n",
       "19999  LGWP45484443       KABUPATEN PATI      Verifikasi   06 Oct 2022\n",
       "\n",
       "[20000 rows x 4 columns]"
      ]
     },
     "execution_count": 44,
     "metadata": {},
     "output_type": "execute_result"
    }
   ],
   "source": [
    "# memisahkan kota dengan tanggal, dan membuat kolom tanggal\n",
    "split = dataset['Kabupaten/Kota'].str.split(pat= ',',expand=True )\n",
    "# dataset['Tanggal']=split[1]\n",
    "dataset"
   ]
  },
  {
   "cell_type": "code",
   "execution_count": 51,
   "id": "5ecfdcc8",
   "metadata": {},
   "outputs": [
    {
     "name": "stdout",
     "output_type": "stream",
     "text": [
      "<class 'pandas.core.frame.DataFrame'>\n",
      "RangeIndex: 20000 entries, 0 to 19999\n",
      "Data columns (total 5 columns):\n",
      " #   Column          Non-Null Count  Dtype \n",
      "---  ------          --------------  ----- \n",
      " 0   ID              20000 non-null  object\n",
      " 1   Kabupaten/Kota  20000 non-null  object\n",
      " 2   Status          20000 non-null  object\n",
      " 3   Tanggal         20000 non-null  object\n",
      " 4   Bulan           20000 non-null  object\n",
      "dtypes: object(5)\n",
      "memory usage: 781.4+ KB\n"
     ]
    }
   ],
   "source": [
    "# melihat tipe data per kolom\n",
    "dataset.info()"
   ]
  },
  {
   "cell_type": "code",
   "execution_count": 63,
   "id": "bd76075e",
   "metadata": {},
   "outputs": [
    {
     "data": {
      "text/html": [
       "<div>\n",
       "<style scoped>\n",
       "    .dataframe tbody tr th:only-of-type {\n",
       "        vertical-align: middle;\n",
       "    }\n",
       "\n",
       "    .dataframe tbody tr th {\n",
       "        vertical-align: top;\n",
       "    }\n",
       "\n",
       "    .dataframe thead th {\n",
       "        text-align: right;\n",
       "    }\n",
       "</style>\n",
       "<table border=\"1\" class=\"dataframe\">\n",
       "  <thead>\n",
       "    <tr style=\"text-align: right;\">\n",
       "      <th></th>\n",
       "      <th>ID</th>\n",
       "      <th>Kabupaten/Kota</th>\n",
       "      <th>Status</th>\n",
       "      <th>Bulan</th>\n",
       "    </tr>\n",
       "  </thead>\n",
       "  <tbody>\n",
       "    <tr>\n",
       "      <th>0</th>\n",
       "      <td>LGWA83326637</td>\n",
       "      <td>KABUPATEN BLORA</td>\n",
       "      <td>Progress</td>\n",
       "      <td>Sep</td>\n",
       "    </tr>\n",
       "    <tr>\n",
       "      <th>1</th>\n",
       "      <td>LGWP72471526</td>\n",
       "      <td>KABUPATEN GROBOGAN</td>\n",
       "      <td>Belum Direspon</td>\n",
       "      <td>Sep</td>\n",
       "    </tr>\n",
       "    <tr>\n",
       "      <th>2</th>\n",
       "      <td>LGIG33558123</td>\n",
       "      <td>KABUPATEN KLATEN</td>\n",
       "      <td>Belum Direspon</td>\n",
       "      <td>Sep</td>\n",
       "    </tr>\n",
       "    <tr>\n",
       "      <th>3</th>\n",
       "      <td>LGIG32911071</td>\n",
       "      <td>KABUPATEN TEGAL</td>\n",
       "      <td>Verifikasi</td>\n",
       "      <td>Sep</td>\n",
       "    </tr>\n",
       "    <tr>\n",
       "      <th>4</th>\n",
       "      <td>LGMB31256726</td>\n",
       "      <td>KABUPATEN TEGAL</td>\n",
       "      <td>Belum Direspon</td>\n",
       "      <td>Sep</td>\n",
       "    </tr>\n",
       "    <tr>\n",
       "      <th>...</th>\n",
       "      <td>...</td>\n",
       "      <td>...</td>\n",
       "      <td>...</td>\n",
       "      <td>...</td>\n",
       "    </tr>\n",
       "    <tr>\n",
       "      <th>19995</th>\n",
       "      <td>LGAN67211235</td>\n",
       "      <td>KABUPATEN SEMARANG</td>\n",
       "      <td>Verifikasi</td>\n",
       "      <td>Oct</td>\n",
       "    </tr>\n",
       "    <tr>\n",
       "      <th>19996</th>\n",
       "      <td>LGWA72542280</td>\n",
       "      <td>KABUPATEN PURWOREJO</td>\n",
       "      <td>Selesai</td>\n",
       "      <td>Oct</td>\n",
       "    </tr>\n",
       "    <tr>\n",
       "      <th>19997</th>\n",
       "      <td>LGWP23216219</td>\n",
       "      <td>KABUPATEN JEPARA</td>\n",
       "      <td>Selesai</td>\n",
       "      <td>Oct</td>\n",
       "    </tr>\n",
       "    <tr>\n",
       "      <th>19998</th>\n",
       "      <td>LGWP99416856</td>\n",
       "      <td>KABUPATEN PEMALANG</td>\n",
       "      <td>Selesai</td>\n",
       "      <td>Oct</td>\n",
       "    </tr>\n",
       "    <tr>\n",
       "      <th>19999</th>\n",
       "      <td>LGWP45484443</td>\n",
       "      <td>KABUPATEN PATI</td>\n",
       "      <td>Verifikasi</td>\n",
       "      <td>Oct</td>\n",
       "    </tr>\n",
       "  </tbody>\n",
       "</table>\n",
       "<p>20000 rows × 4 columns</p>\n",
       "</div>"
      ],
      "text/plain": [
       "                 ID       Kabupaten/Kota          Status Bulan\n",
       "0      LGWA83326637      KABUPATEN BLORA        Progress   Sep\n",
       "1      LGWP72471526   KABUPATEN GROBOGAN  Belum Direspon   Sep\n",
       "2      LGIG33558123     KABUPATEN KLATEN  Belum Direspon   Sep\n",
       "3      LGIG32911071      KABUPATEN TEGAL      Verifikasi   Sep\n",
       "4      LGMB31256726      KABUPATEN TEGAL  Belum Direspon   Sep\n",
       "...             ...                  ...             ...   ...\n",
       "19995  LGAN67211235   KABUPATEN SEMARANG      Verifikasi   Oct\n",
       "19996  LGWA72542280  KABUPATEN PURWOREJO         Selesai   Oct\n",
       "19997  LGWP23216219     KABUPATEN JEPARA         Selesai   Oct\n",
       "19998  LGWP99416856   KABUPATEN PEMALANG         Selesai   Oct\n",
       "19999  LGWP45484443       KABUPATEN PATI      Verifikasi   Oct\n",
       "\n",
       "[20000 rows x 4 columns]"
      ]
     },
     "execution_count": 63,
     "metadata": {},
     "output_type": "execute_result"
    }
   ],
   "source": [
    "# Hanya ingin mengolah data perbulan, bukan per hari/tanggal\n",
    "bulan = dataset['Tanggal'].str.split(pat=\" \", expand =True)\n",
    "dataset['Bulan']=bulan[2]\n",
    "dataset=dataset.drop(labels='Tanggal', axis=1)\n",
    "dataset"
   ]
  },
  {
   "cell_type": "markdown",
   "id": "8b441874",
   "metadata": {},
   "source": [
    "## 4 Analisa data"
   ]
  },
  {
   "cell_type": "markdown",
   "id": "a951b4cc",
   "metadata": {},
   "source": [
    "A. Mengetahui seberapa banyak aduan masyarakat kepada pemerintah jawa tengah pada portal laporgub.jatengprov.go.id selama beberapa bulan terakhir."
   ]
  },
  {
   "cell_type": "code",
   "execution_count": 72,
   "id": "11e7b68d",
   "metadata": {},
   "outputs": [
    {
     "data": {
      "text/plain": [
       "Bulan\n",
       "Oct    2714\n",
       "Nov    2189\n",
       "Mar    2094\n",
       "May    1916\n",
       "Dec    1781\n",
       "Jul    1764\n",
       "Jan    1714\n",
       "Feb    1576\n",
       "Jun    1405\n",
       "Apr    1284\n",
       "Aug    1128\n",
       "Sep     435\n",
       "Name: count, dtype: int64"
      ]
     },
     "execution_count": 72,
     "metadata": {},
     "output_type": "execute_result"
    }
   ],
   "source": [
    "per_bulan = dataset.Bulan.value_counts(ascending=False)\n",
    "#Oct-Dec = 2022\n",
    "#Jan-sep = 2023\n",
    "per_bulan"
   ]
  },
  {
   "cell_type": "code",
   "execution_count": 75,
   "id": "9e4bee81",
   "metadata": {},
   "outputs": [],
   "source": [
    "import matplotlib.pyplot as plt"
   ]
  },
  {
   "cell_type": "code",
   "execution_count": 107,
   "id": "68e8f31a",
   "metadata": {},
   "outputs": [
    {
     "data": {
      "image/png": "[encoded data removed]",
      "text/plain": [
       "<Figure size 640x480 with 1 Axes>"
      ]
     },
     "metadata": {},
     "output_type": "display_data"
    }
   ],
   "source": [
    "bulan_bar_df = pd.DataFrame({'Bulan':per_bulan.index, 'Jumlah Aduan':per_bulan.values})\n",
    "bar_plot = plt.bar(bulan_bar_df['Bulan'], height= bulan_bar_df['Jumlah Aduan'], color=\"darkblue\")\n",
    "plt.bar_label(bar_plot, labels=bulan_bar_df['Jumlah Aduan'], label_type = 'edge',color='darkorange')\n",
    "plt.title(\"Jumlah Aduan per Bulan\")\n",
    "plt.annotate('Oct-Dec = 2022 \\nJan-Sep=2023', xy=[8,2500], color='darkred')\n",
    "plt.show()"
   ]
  },
  {
   "cell_type": "markdown",
   "id": "9ceaf276",
   "metadata": {},
   "source": [
    "B. Mengetahui berapa banyak aduan per kota/kabupaten di jawa tengah dalam periode waktu tertentu."
   ]
  },
  {
   "cell_type": "code",
   "execution_count": 163,
   "id": "b0e7f546",
   "metadata": {},
   "outputs": [
    {
     "data": {
      "image/png": "[encoded data removed]",
      "text/plain": [
       "<Figure size 800x700 with 1 Axes>"
      ]
     },
     "metadata": {},
     "output_type": "display_data"
    }
   ],
   "source": [
    "fig = plt.figure(figsize=(8,7))\n",
    "dataset['Kabupaten/Kota'] = dataset['Kabupaten/Kota'].str.replace(pat='KABUPATEN', repl=' ',regex=False) \n",
    "dataset['Kabupaten/Kota'] = dataset['Kabupaten/Kota'].str.replace(pat='KOTA', repl=' ',regex=False) \n",
    "kota = dataset['Kabupaten/Kota'].value_counts()\n",
    "bar_kota = pd.DataFrame({'Kota':kota.index,'Jumlah':kota.values})\n",
    "h_bar = plt.barh(bar_kota['Kota'],bar_kota['Jumlah'])\n",
    "plt.bar_label(h_bar, labels=bar_kota['Jumlah'], label_type = 'center',color='white', size=8)\n",
    "plt.title('Jumlah Aduan per Kota dari Oktober 2022 hingga September 2023')\n",
    "plt.show()"
   ]
  },
  {
   "cell_type": "markdown",
   "id": "2f976f5a",
   "metadata": {},
   "source": [
    "C. Mengetahui rata-rata aduan per kota dan Perbulan"
   ]
  },
  {
   "cell_type": "code",
   "execution_count": 193,
   "id": "d30fb6cb",
   "metadata": {},
   "outputs": [
    {
     "name": "stdout",
     "output_type": "stream",
     "text": [
      "Rata-rata aduan per kota adalah 625.0 \n",
      "Rata-Rata aduan per bulan adalah 1666.6666666666667\n"
     ]
    }
   ],
   "source": [
    "rata_rata_kota = bar_kota[\"Jumlah\"].sum()/len(bar_kota['Kota'])\n",
    "rata_rata_bulan = bulan_bar_df['Jumlah Aduan'].sum()/len(bulan_bar_df['Bulan'])\n",
    "\n",
    "print(f\"Rata-rata aduan per kota adalah {rata_rata_kota} \\nRata-Rata aduan per bulan adalah {rata_rata_bulan}\")"
   ]
  },
  {
   "cell_type": "markdown",
   "id": "e4a5fbdd",
   "metadata": {},
   "source": [
    "    Rata-rata aduan per kota di jawa tengah terhitung dari Oktober 2022 - September 2023 adalah = 635"
   ]
  },
  {
   "cell_type": "markdown",
   "id": "97cc144e",
   "metadata": {},
   "source": [
    "D. Mengetahui persentasi aduan diselesaikan, diverivikasi, masih berjalan, atau bahkan tidak direspon dalam waktu tertentu."
   ]
  },
  {
   "cell_type": "code",
   "execution_count": 185,
   "id": "c8394a5f",
   "metadata": {},
   "outputs": [
    {
     "data": {
      "text/html": [
       "<div>\n",
       "<style scoped>\n",
       "    .dataframe tbody tr th:only-of-type {\n",
       "        vertical-align: middle;\n",
       "    }\n",
       "\n",
       "    .dataframe tbody tr th {\n",
       "        vertical-align: top;\n",
       "    }\n",
       "\n",
       "    .dataframe thead th {\n",
       "        text-align: right;\n",
       "    }\n",
       "</style>\n",
       "<table border=\"1\" class=\"dataframe\">\n",
       "  <thead>\n",
       "    <tr style=\"text-align: right;\">\n",
       "      <th></th>\n",
       "      <th>Status</th>\n",
       "      <th>Jumlah</th>\n",
       "      <th>%</th>\n",
       "    </tr>\n",
       "  </thead>\n",
       "  <tbody>\n",
       "    <tr>\n",
       "      <th>0</th>\n",
       "      <td>Selesai</td>\n",
       "      <td>14949</td>\n",
       "      <td>74.74</td>\n",
       "    </tr>\n",
       "    <tr>\n",
       "      <th>1</th>\n",
       "      <td>Verifikasi</td>\n",
       "      <td>2740</td>\n",
       "      <td>13.70</td>\n",
       "    </tr>\n",
       "    <tr>\n",
       "      <th>2</th>\n",
       "      <td>Progress</td>\n",
       "      <td>2242</td>\n",
       "      <td>11.21</td>\n",
       "    </tr>\n",
       "    <tr>\n",
       "      <th>3</th>\n",
       "      <td>Belum Direspon</td>\n",
       "      <td>69</td>\n",
       "      <td>0.34</td>\n",
       "    </tr>\n",
       "  </tbody>\n",
       "</table>\n",
       "</div>"
      ],
      "text/plain": [
       "           Status  Jumlah      %\n",
       "0         Selesai   14949  74.74\n",
       "1      Verifikasi    2740  13.70\n",
       "2        Progress    2242  11.21\n",
       "3  Belum Direspon      69   0.34"
      ]
     },
     "execution_count": 185,
     "metadata": {},
     "output_type": "execute_result"
    }
   ],
   "source": [
    "status_count = dataset['Status'].value_counts()\n",
    "status_aduan = pd.DataFrame({'Status':status_count.index,'Jumlah':status_count.values})\n",
    "sum = status_aduan['Jumlah'].sum()\n",
    "percentage = (status_aduan['Jumlah']/sum)*100\n",
    "status_aduan['%']= round(percentage,2)\n",
    "status_aduan"
   ]
  },
  {
   "cell_type": "markdown",
   "id": "05029c10",
   "metadata": {},
   "source": [
    "##### Terhitung sejak Oktober 2022 - September 2023\n",
    "Terdapat kurang lebih 20000 aduan dari masyarakat Jawa Tengah\n",
    "74.74% aduan sudah terselesaikan\n",
    "13.70% aduan sudah terverifikasi namun belum terlesaikan\n",
    "11.21% aduan masih berjalan atau sudah dalam proses penyelesaian\n",
    "0.34% aduan belum atau tidak direspon"
   ]
  },
  {
   "cell_type": "markdown",
   "id": "90cb8c28",
   "metadata": {},
   "source": [
    "### Terdapat beberapa kesimpulan berdasarkan data di atas:\n",
    "1. Semarang adalah kota yang paling banyak mengadu atau melaporkan sesuatu pada pemerintah disusul cilacap dan brebes.\n",
    "2. Rata-rata aduan perbulan yang mencapai angka 1666.66. Bagaimana cara pemerintah jawa-tengah menangani setiap aduan? sayangnya penganalisa tidak punya kuasa untuk mencari data lebih jauh atau memberikan kesimpulan terhadap kinerja pemerintah. Data di atas tidak cukup untuk menjawab pertanyan: apa? kenapa? bagaimana?. Hanya mampu memberikan informasi tentang berapa, dan kapan.\n",
    "\n",
    "### Dengan dilakukannya proyek ini, penganalisa berharap:\n",
    "1. Tidak ada pihak yang tersinggung sebagaimana tujuan proyek ini hanya yang tertulis di atas.\n",
    "2. Analisa ini sama sekali tidak ada niatan yang bersifat menyerang, menyinggung, atau mendukung pihak manapun. \n",
    "2. Data analis senior bisa memberikan kritik dan saran terhadap penganalisa. Hubungi https://www.linkedin.com/in/ardianto407/ atau melalui email ardianto.aa70@gmail.com"
   ]
  },
  {
   "cell_type": "code",
   "execution_count": null,
   "id": "0e4e488f",
   "metadata": {},
   "outputs": [],
   "source": []
  }
 ],
 "metadata": {
  "kernelspec": {
   "display_name": "Python 3 (ipykernel)",
   "language": "python",
   "name": "python3"
  },
  "language_info": {
   "codemirror_mode": {
    "name": "ipython",
    "version": 3
   },
   "file_extension": ".py",
   "mimetype": "text/x-python",
   "name": "python",
   "nbconvert_exporter": "python",
   "pygments_lexer": "ipython3",
   "version": "3.10.13"
  }
 },
 "nbformat": 4,
 "nbformat_minor": 5
}
